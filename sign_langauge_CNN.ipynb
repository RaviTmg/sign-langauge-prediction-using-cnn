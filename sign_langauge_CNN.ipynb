{
 "cells": [
  {
   "cell_type": "code",
   "execution_count": 2,
   "metadata": {},
   "outputs": [
    {
     "name": "stderr",
     "output_type": "stream",
     "text": [
      "Using TensorFlow backend.\n"
     ]
    }
   ],
   "source": [
    "import numpy as np\n",
    "import pandas as pd\n",
    "import matplotlib.pyplot as plt\n",
    "plt.style.use('seaborn')\n",
    "%matplotlib inline\n",
    "\n",
    "from sklearn.model_selection import train_test_split\n",
    "from sklearn.metrics import accuracy_score\n",
    "\n",
    "from keras.layers import Conv2D, Flatten, MaxPooling2D, BatchNormalization, Activation, Dense, Dropout\n",
    "from keras.models import Sequential\n",
    "from keras.utils import to_categorical\n",
    "from keras.applications import InceptionV3\n",
    "import keras.backend as K"
   ]
  },
  {
   "cell_type": "code",
   "execution_count": 23,
   "metadata": {},
   "outputs": [
    {
     "name": "stdout",
     "output_type": "stream",
     "text": [
      "(27455, 785)\n"
     ]
    }
   ],
   "source": [
    "train = pd.read_csv('sign_mnist_train.csv')\n",
    "print(train.shape)"
   ]
  },
  {
   "cell_type": "code",
   "execution_count": 24,
   "metadata": {},
   "outputs": [
    {
     "data": {
      "text/html": [
       "<div>\n",
       "<style scoped>\n",
       "    .dataframe tbody tr th:only-of-type {\n",
       "        vertical-align: middle;\n",
       "    }\n",
       "\n",
       "    .dataframe tbody tr th {\n",
       "        vertical-align: top;\n",
       "    }\n",
       "\n",
       "    .dataframe thead th {\n",
       "        text-align: right;\n",
       "    }\n",
       "</style>\n",
       "<table border=\"1\" class=\"dataframe\">\n",
       "  <thead>\n",
       "    <tr style=\"text-align: right;\">\n",
       "      <th></th>\n",
       "      <th>label</th>\n",
       "      <th>pixel1</th>\n",
       "      <th>pixel2</th>\n",
       "      <th>pixel3</th>\n",
       "      <th>pixel4</th>\n",
       "      <th>pixel5</th>\n",
       "      <th>pixel6</th>\n",
       "      <th>pixel7</th>\n",
       "      <th>pixel8</th>\n",
       "      <th>pixel9</th>\n",
       "      <th>...</th>\n",
       "      <th>pixel775</th>\n",
       "      <th>pixel776</th>\n",
       "      <th>pixel777</th>\n",
       "      <th>pixel778</th>\n",
       "      <th>pixel779</th>\n",
       "      <th>pixel780</th>\n",
       "      <th>pixel781</th>\n",
       "      <th>pixel782</th>\n",
       "      <th>pixel783</th>\n",
       "      <th>pixel784</th>\n",
       "    </tr>\n",
       "  </thead>\n",
       "  <tbody>\n",
       "    <tr>\n",
       "      <th>0</th>\n",
       "      <td>3</td>\n",
       "      <td>107</td>\n",
       "      <td>118</td>\n",
       "      <td>127</td>\n",
       "      <td>134</td>\n",
       "      <td>139</td>\n",
       "      <td>143</td>\n",
       "      <td>146</td>\n",
       "      <td>150</td>\n",
       "      <td>153</td>\n",
       "      <td>...</td>\n",
       "      <td>207</td>\n",
       "      <td>207</td>\n",
       "      <td>207</td>\n",
       "      <td>207</td>\n",
       "      <td>206</td>\n",
       "      <td>206</td>\n",
       "      <td>206</td>\n",
       "      <td>204</td>\n",
       "      <td>203</td>\n",
       "      <td>202</td>\n",
       "    </tr>\n",
       "    <tr>\n",
       "      <th>1</th>\n",
       "      <td>6</td>\n",
       "      <td>155</td>\n",
       "      <td>157</td>\n",
       "      <td>156</td>\n",
       "      <td>156</td>\n",
       "      <td>156</td>\n",
       "      <td>157</td>\n",
       "      <td>156</td>\n",
       "      <td>158</td>\n",
       "      <td>158</td>\n",
       "      <td>...</td>\n",
       "      <td>69</td>\n",
       "      <td>149</td>\n",
       "      <td>128</td>\n",
       "      <td>87</td>\n",
       "      <td>94</td>\n",
       "      <td>163</td>\n",
       "      <td>175</td>\n",
       "      <td>103</td>\n",
       "      <td>135</td>\n",
       "      <td>149</td>\n",
       "    </tr>\n",
       "    <tr>\n",
       "      <th>2</th>\n",
       "      <td>2</td>\n",
       "      <td>187</td>\n",
       "      <td>188</td>\n",
       "      <td>188</td>\n",
       "      <td>187</td>\n",
       "      <td>187</td>\n",
       "      <td>186</td>\n",
       "      <td>187</td>\n",
       "      <td>188</td>\n",
       "      <td>187</td>\n",
       "      <td>...</td>\n",
       "      <td>202</td>\n",
       "      <td>201</td>\n",
       "      <td>200</td>\n",
       "      <td>199</td>\n",
       "      <td>198</td>\n",
       "      <td>199</td>\n",
       "      <td>198</td>\n",
       "      <td>195</td>\n",
       "      <td>194</td>\n",
       "      <td>195</td>\n",
       "    </tr>\n",
       "    <tr>\n",
       "      <th>3</th>\n",
       "      <td>2</td>\n",
       "      <td>211</td>\n",
       "      <td>211</td>\n",
       "      <td>212</td>\n",
       "      <td>212</td>\n",
       "      <td>211</td>\n",
       "      <td>210</td>\n",
       "      <td>211</td>\n",
       "      <td>210</td>\n",
       "      <td>210</td>\n",
       "      <td>...</td>\n",
       "      <td>235</td>\n",
       "      <td>234</td>\n",
       "      <td>233</td>\n",
       "      <td>231</td>\n",
       "      <td>230</td>\n",
       "      <td>226</td>\n",
       "      <td>225</td>\n",
       "      <td>222</td>\n",
       "      <td>229</td>\n",
       "      <td>163</td>\n",
       "    </tr>\n",
       "    <tr>\n",
       "      <th>4</th>\n",
       "      <td>13</td>\n",
       "      <td>164</td>\n",
       "      <td>167</td>\n",
       "      <td>170</td>\n",
       "      <td>172</td>\n",
       "      <td>176</td>\n",
       "      <td>179</td>\n",
       "      <td>180</td>\n",
       "      <td>184</td>\n",
       "      <td>185</td>\n",
       "      <td>...</td>\n",
       "      <td>92</td>\n",
       "      <td>105</td>\n",
       "      <td>105</td>\n",
       "      <td>108</td>\n",
       "      <td>133</td>\n",
       "      <td>163</td>\n",
       "      <td>157</td>\n",
       "      <td>163</td>\n",
       "      <td>164</td>\n",
       "      <td>179</td>\n",
       "    </tr>\n",
       "  </tbody>\n",
       "</table>\n",
       "<p>5 rows × 785 columns</p>\n",
       "</div>"
      ],
      "text/plain": [
       "   label  pixel1  pixel2  pixel3  pixel4  pixel5  pixel6  pixel7  pixel8  \\\n",
       "0      3     107     118     127     134     139     143     146     150   \n",
       "1      6     155     157     156     156     156     157     156     158   \n",
       "2      2     187     188     188     187     187     186     187     188   \n",
       "3      2     211     211     212     212     211     210     211     210   \n",
       "4     13     164     167     170     172     176     179     180     184   \n",
       "\n",
       "   pixel9    ...     pixel775  pixel776  pixel777  pixel778  pixel779  \\\n",
       "0     153    ...          207       207       207       207       206   \n",
       "1     158    ...           69       149       128        87        94   \n",
       "2     187    ...          202       201       200       199       198   \n",
       "3     210    ...          235       234       233       231       230   \n",
       "4     185    ...           92       105       105       108       133   \n",
       "\n",
       "   pixel780  pixel781  pixel782  pixel783  pixel784  \n",
       "0       206       206       204       203       202  \n",
       "1       163       175       103       135       149  \n",
       "2       199       198       195       194       195  \n",
       "3       226       225       222       229       163  \n",
       "4       163       157       163       164       179  \n",
       "\n",
       "[5 rows x 785 columns]"
      ]
     },
     "execution_count": 24,
     "metadata": {},
     "output_type": "execute_result"
    }
   ],
   "source": [
    "train.head()"
   ]
  },
  {
   "cell_type": "code",
   "execution_count": 25,
   "metadata": {},
   "outputs": [
    {
     "data": {
      "text/plain": [
       "(27455, 25)"
      ]
     },
     "execution_count": 25,
     "metadata": {},
     "output_type": "execute_result"
    }
   ],
   "source": [
    "labels = train.pop('label')\n",
    "label = to_categorical(labels)\n",
    "label.shape"
   ]
  },
  {
   "cell_type": "code",
   "execution_count": 31,
   "metadata": {},
   "outputs": [
    {
     "data": {
      "text/plain": [
       "array([0., 0., 0., 0., 0., 0., 1., 0., 0., 0., 0., 0., 0., 0., 0., 0., 0.,\n",
       "       0., 0., 0., 0., 0., 0., 0., 0.], dtype=float32)"
      ]
     },
     "execution_count": 31,
     "metadata": {},
     "output_type": "execute_result"
    }
   ],
   "source": [
    "label[1]"
   ]
  },
  {
   "cell_type": "code",
   "execution_count": 37,
   "metadata": {},
   "outputs": [
    {
     "data": {
      "text/plain": [
       "(27455, 28, 28)"
      ]
     },
     "execution_count": 37,
     "metadata": {},
     "output_type": "execute_result"
    }
   ],
   "source": [
    "train_data = train.values\n",
    "#reshape\n",
    "train_data = np.array([np.reshape(i,(28,28)) for i in train_data])\n",
    "#normalize\n",
    "train_data = train_data / 255\n",
    "train_data.shape"
   ]
  },
  {
   "cell_type": "code",
   "execution_count": 41,
   "metadata": {},
   "outputs": [
    {
     "data": {
      "text/plain": [
       "<matplotlib.image.AxesImage at 0x7f4b4ff1c208>"
      ]
     },
     "execution_count": 41,
     "metadata": {},
     "output_type": "execute_result"
    },
    {
     "data": {
      "image/png": "[encoded data removed]",
      "text/plain": [
       "<Figure size 432x288 with 1 Axes>"
      ]
     },
     "metadata": {
      "needs_background": "light"
     },
     "output_type": "display_data"
    }
   ],
   "source": [
    "plt.imshow(train_data[1])"
   ]
  },
  {
   "cell_type": "code",
   "execution_count": 44,
   "metadata": {},
   "outputs": [
    {
     "name": "stdout",
     "output_type": "stream",
     "text": [
      "(21964, 28, 28) (5491, 28, 28) (21964, 25) (5491, 25)\n"
     ]
    }
   ],
   "source": [
    "X_train, X_val, y_train, y_val = train_test_split(train_data, label, test_size=0.2, random_state=23)\n",
    "print(X_train.shape, X_val.shape, y_train.shape, y_val.shape)"
   ]
  },
  {
   "cell_type": "code",
   "execution_count": 47,
   "metadata": {},
   "outputs": [
    {
     "name": "stdout",
     "output_type": "stream",
     "text": [
      "(21964, 28, 28, 1) (5491, 28, 28, 1)\n"
     ]
    }
   ],
   "source": [
    "X_train = X_train.reshape(X_train.shape[0], 28,28,1)\n",
    "X_val = X_val.reshape(X_val.shape[0], 28,28,1)\n",
    "print(X_train.shape, X_val.shape)"
   ]
  },
  {
   "cell_type": "code",
   "execution_count": 48,
   "metadata": {},
   "outputs": [],
   "source": [
    "model = Sequential()\n",
    "model.add(Conv2D(4, (5,5), input_shape=(28,28,1), activation='relu'))\n",
    "model.add(MaxPooling2D(pool_size=(2,2), strides=2))\n",
    "model.add(Conv2D(12, (5,5), activation='relu'))\n",
    "model.add(MaxPooling2D(pool_size=(2,2), strides=2))\n",
    "model.add(Flatten())\n",
    "model.add(Dense(100, activation='relu'))\n",
    "model.add(Dropout(0.5))\n",
    "model.add(Dense(25, activation='softmax'))"
   ]
  },
  {
   "cell_type": "code",
   "execution_count": 49,
   "metadata": {},
   "outputs": [],
   "source": [
    "model.compile(optimizer='adam', loss='categorical_crossentropy', metrics=['accuracy'])"
   ]
  },
  {
   "cell_type": "code",
   "execution_count": 50,
   "metadata": {},
   "outputs": [
    {
     "name": "stdout",
     "output_type": "stream",
     "text": [
      "Train on 21964 samples, validate on 5491 samples\n",
      "Epoch 1/40\n",
      "21964/21964 [==============================] - 10s 433us/step - loss: 3.1480 - acc: 0.0800 - val_loss: 2.9527 - val_acc: 0.2972\n",
      "Epoch 2/40\n",
      "21964/21964 [==============================] - 8s 369us/step - loss: 2.6049 - acc: 0.2421 - val_loss: 2.0200 - val_acc: 0.4704\n",
      "Epoch 3/40\n",
      "21964/21964 [==============================] - 8s 372us/step - loss: 2.0107 - acc: 0.3732 - val_loss: 1.5746 - val_acc: 0.5660\n",
      "Epoch 4/40\n",
      "21964/21964 [==============================] - 8s 363us/step - loss: 1.6998 - acc: 0.4627 - val_loss: 1.3098 - val_acc: 0.6303\n",
      "Epoch 5/40\n",
      "21964/21964 [==============================] - 9s 404us/step - loss: 1.4776 - acc: 0.5257 - val_loss: 1.0786 - val_acc: 0.7037\n",
      "Epoch 6/40\n",
      "21964/21964 [==============================] - 8s 370us/step - loss: 1.2976 - acc: 0.5815 - val_loss: 0.9166 - val_acc: 0.7574\n",
      "Epoch 7/40\n",
      "21964/21964 [==============================] - 8s 345us/step - loss: 1.1396 - acc: 0.6314 - val_loss: 0.7616 - val_acc: 0.8030\n",
      "Epoch 8/40\n",
      "21964/21964 [==============================] - 8s 383us/step - loss: 1.0086 - acc: 0.6743 - val_loss: 0.6594 - val_acc: 0.8401\n",
      "Epoch 9/40\n",
      "21964/21964 [==============================] - 10s 440us/step - loss: 0.9101 - acc: 0.7056 - val_loss: 0.5550 - val_acc: 0.8687\n",
      "Epoch 10/40\n",
      "21964/21964 [==============================] - 10s 477us/step - loss: 0.8097 - acc: 0.7378 - val_loss: 0.4727 - val_acc: 0.8946\n",
      "Epoch 11/40\n",
      "21964/21964 [==============================] - 9s 395us/step - loss: 0.7358 - acc: 0.7622 - val_loss: 0.4121 - val_acc: 0.9106\n",
      "Epoch 12/40\n",
      "21964/21964 [==============================] - 8s 386us/step - loss: 0.6879 - acc: 0.7742 - val_loss: 0.3749 - val_acc: 0.9148\n",
      "Epoch 13/40\n",
      "21964/21964 [==============================] - 9s 387us/step - loss: 0.6305 - acc: 0.7920 - val_loss: 0.3199 - val_acc: 0.9326\n",
      "Epoch 14/40\n",
      "21964/21964 [==============================] - 8s 386us/step - loss: 0.5648 - acc: 0.8156 - val_loss: 0.2781 - val_acc: 0.9395\n",
      "Epoch 15/40\n",
      "21964/21964 [==============================] - 8s 382us/step - loss: 0.5323 - acc: 0.8248 - val_loss: 0.2442 - val_acc: 0.9528\n",
      "Epoch 16/40\n",
      "21964/21964 [==============================] - 8s 364us/step - loss: 0.4931 - acc: 0.8393 - val_loss: 0.2198 - val_acc: 0.9557\n",
      "Epoch 17/40\n",
      "21964/21964 [==============================] - 8s 352us/step - loss: 0.4542 - acc: 0.8515 - val_loss: 0.1954 - val_acc: 0.9587\n",
      "Epoch 18/40\n",
      "21964/21964 [==============================] - 8s 358us/step - loss: 0.4328 - acc: 0.8597 - val_loss: 0.1736 - val_acc: 0.9736\n",
      "Epoch 19/40\n",
      "21964/21964 [==============================] - 8s 353us/step - loss: 0.4084 - acc: 0.8673 - val_loss: 0.1535 - val_acc: 0.9712\n",
      "Epoch 20/40\n",
      "21964/21964 [==============================] - 8s 357us/step - loss: 0.3737 - acc: 0.8760 - val_loss: 0.1420 - val_acc: 0.9791\n",
      "Epoch 21/40\n",
      "21964/21964 [==============================] - 8s 373us/step - loss: 0.3619 - acc: 0.8814 - val_loss: 0.1222 - val_acc: 0.9812\n",
      "Epoch 22/40\n",
      "21964/21964 [==============================] - 8s 348us/step - loss: 0.3302 - acc: 0.8919 - val_loss: 0.1061 - val_acc: 0.9845\n",
      "Epoch 23/40\n",
      "21964/21964 [==============================] - 8s 381us/step - loss: 0.3118 - acc: 0.8979 - val_loss: 0.0972 - val_acc: 0.9858\n",
      "Epoch 24/40\n",
      "21964/21964 [==============================] - 8s 360us/step - loss: 0.3005 - acc: 0.9013 - val_loss: 0.0884 - val_acc: 0.9878\n",
      "Epoch 25/40\n",
      "21964/21964 [==============================] - 8s 368us/step - loss: 0.2856 - acc: 0.9057 - val_loss: 0.0788 - val_acc: 0.9891\n",
      "Epoch 26/40\n",
      "21964/21964 [==============================] - 8s 361us/step - loss: 0.2733 - acc: 0.9099 - val_loss: 0.0705 - val_acc: 0.9936\n",
      "Epoch 27/40\n",
      "21964/21964 [==============================] - 8s 360us/step - loss: 0.2592 - acc: 0.9173 - val_loss: 0.0647 - val_acc: 0.9934\n",
      "Epoch 28/40\n",
      "21964/21964 [==============================] - 8s 372us/step - loss: 0.2474 - acc: 0.9196 - val_loss: 0.0602 - val_acc: 0.9940\n",
      "Epoch 29/40\n",
      "21964/21964 [==============================] - 8s 358us/step - loss: 0.2317 - acc: 0.9253 - val_loss: 0.0529 - val_acc: 0.9953\n",
      "Epoch 30/40\n",
      "21964/21964 [==============================] - 8s 357us/step - loss: 0.2228 - acc: 0.9278 - val_loss: 0.0459 - val_acc: 0.9969\n",
      "Epoch 31/40\n",
      "21964/21964 [==============================] - 8s 348us/step - loss: 0.2065 - acc: 0.9347 - val_loss: 0.0427 - val_acc: 0.9975\n",
      "Epoch 32/40\n",
      "21964/21964 [==============================] - 8s 348us/step - loss: 0.2062 - acc: 0.9368 - val_loss: 0.0391 - val_acc: 0.9987\n",
      "Epoch 33/40\n",
      "21964/21964 [==============================] - 8s 357us/step - loss: 0.1996 - acc: 0.9365 - val_loss: 0.0320 - val_acc: 0.9989\n",
      "Epoch 34/40\n",
      "21964/21964 [==============================] - 9s 424us/step - loss: 0.1930 - acc: 0.9371 - val_loss: 0.0309 - val_acc: 0.9984\n",
      "Epoch 35/40\n",
      "21964/21964 [==============================] - 8s 347us/step - loss: 0.1767 - acc: 0.9444 - val_loss: 0.0284 - val_acc: 0.9984\n",
      "Epoch 36/40\n",
      "21964/21964 [==============================] - 8s 346us/step - loss: 0.1721 - acc: 0.9450 - val_loss: 0.0239 - val_acc: 0.9982\n",
      "Epoch 37/40\n",
      "21964/21964 [==============================] - 8s 366us/step - loss: 0.1670 - acc: 0.9472 - val_loss: 0.0255 - val_acc: 0.9993\n",
      "Epoch 38/40\n",
      "21964/21964 [==============================] - 8s 347us/step - loss: 0.1519 - acc: 0.9517 - val_loss: 0.0224 - val_acc: 0.9998\n",
      "Epoch 39/40\n",
      "21964/21964 [==============================] - 8s 347us/step - loss: 0.1573 - acc: 0.9487 - val_loss: 0.0208 - val_acc: 0.9993\n",
      "Epoch 40/40\n",
      "21964/21964 [==============================] - 8s 348us/step - loss: 0.1521 - acc: 0.9509 - val_loss: 0.0188 - val_acc: 0.9993\n"
     ]
    }
   ],
   "source": [
    "history = model.fit(X_train, y_train, epochs=40, batch_size=512, validation_data=(X_val, y_val))"
   ]
  },
  {
   "cell_type": "code",
   "execution_count": 52,
   "metadata": {},
   "outputs": [],
   "source": [
    "model.save_weights('model1.h5')"
   ]
  },
  {
   "cell_type": "code",
   "execution_count": 53,
   "metadata": {},
   "outputs": [
    {
     "data": {
      "text/plain": [
       "<matplotlib.legend.Legend at 0x7f4b2e938e80>"
      ]
     },
     "execution_count": 53,
     "metadata": {},
     "output_type": "execute_result"
    },
    {
     "data": {
      "image/png": "[encoded data removed]",
      "text/plain": [
       "<Figure size 1440x720 with 2 Axes>"
      ]
     },
     "metadata": {
      "needs_background": "light"
     },
     "output_type": "display_data"
    }
   ],
   "source": [
    "f, ax = plt.subplots(1, 2, figsize=(20,10))\n",
    "ax[0].set_title(\"Model Accuracy\")\n",
    "ax[0].plot(history.history['acc'])\n",
    "ax[0].plot(history.history['val_acc'])\n",
    "ax[0].set_xlabel(\"Epochs\")\n",
    "ax[0].set_ylabel(\"Accuracy\")\n",
    "ax[0].legend(['training', 'validation'])\n",
    "\n",
    "ax[1].set_title(\"Model Loss\")\n",
    "ax[1].plot(history.history['loss'])\n",
    "ax[1].plot(history.history['val_loss'])\n",
    "ax[1].set_xlabel(\"Epochs\")\n",
    "ax[1].set_ylabel(\"Loss\")\n",
    "ax[1].legend(['training', 'validation'])"
   ]
  },
  {
   "cell_type": "code",
   "execution_count": 56,
   "metadata": {},
   "outputs": [
    {
     "name": "stdout",
     "output_type": "stream",
     "text": [
      "(7172, 28, 28, 1) (7172, 25)\n"
     ]
    }
   ],
   "source": [
    "test = pd.read_csv(\"sign_mnist_test.csv\")\n",
    "# generate label data\n",
    "y_test = test.pop('label')\n",
    "y_test = to_categorical(y_test)\n",
    "# generate test data\n",
    "X_test = test.values\n",
    "X_test = np.array([np.reshape(i, (28,28)) for i in X_test])\n",
    "X_test = X_test / 255\n",
    "X_test = X_test.reshape(X_test.shape[0], 28,28,1)\n",
    "print(X_test.shape, y_test.shape)"
   ]
  },
  {
   "cell_type": "code",
   "execution_count": 57,
   "metadata": {},
   "outputs": [],
   "source": [
    "predictions = model.predict(X_test)\n"
   ]
  },
  {
   "cell_type": "code",
   "execution_count": 58,
   "metadata": {},
   "outputs": [
    {
     "data": {
      "text/plain": [
       "0.89654210819855"
      ]
     },
     "execution_count": 58,
     "metadata": {},
     "output_type": "execute_result"
    }
   ],
   "source": [
    "test_accuracy = accuracy_score(np.argmax(y_test, axis=1), np.argmax(predictions, axis=1))\n",
    "test_accuracy"
   ]
  },
  {
   "cell_type": "code",
   "execution_count": 59,
   "metadata": {},
   "outputs": [
    {
     "name": "stdout",
     "output_type": "stream",
     "text": [
      "Predicted: G with the probability of: 0.9998558759689331\n",
      "Actual class:  G\n"
     ]
    },
    {
     "data": {
      "image/png": "[encoded data removed]",
      "text/plain": [
       "<Figure size 432x288 with 1 Axes>"
      ]
     },
     "metadata": {
      "needs_background": "light"
     },
     "output_type": "display_data"
    },
    {
     "name": "stdout",
     "output_type": "stream",
     "text": [
      "Predicted: F with the probability of: 0.9877898693084717\n",
      "Actual class:  F\n"
     ]
    },
    {
     "data": {
      "image/png": "[encoded data removed]",
      "text/plain": [
       "<Figure size 432x288 with 1 Axes>"
      ]
     },
     "metadata": {
      "needs_background": "light"
     },
     "output_type": "display_data"
    },
    {
     "name": "stdout",
     "output_type": "stream",
     "text": [
      "Predicted: K with the probability of: 0.9999035596847534\n",
      "Actual class:  K\n"
     ]
    },
    {
     "data": {
      "image/png": "[encoded data removed]",
      "text/plain": [
       "<Figure size 432x288 with 1 Axes>"
      ]
     },
     "metadata": {
      "needs_background": "light"
     },
     "output_type": "display_data"
    },
    {
     "name": "stdout",
     "output_type": "stream",
     "text": [
      "Predicted: A with the probability of: 0.9981970191001892\n",
      "Actual class:  A\n"
     ]
    },
    {
     "data": {
      "image/png": "[encoded data removed]",
      "text/plain": [
       "<Figure size 432x288 with 1 Axes>"
      ]
     },
     "metadata": {
      "needs_background": "light"
     },
     "output_type": "display_data"
    },
    {
     "name": "stdout",
     "output_type": "stream",
     "text": [
      "Predicted: D with the probability of: 0.9990515112876892\n",
      "Actual class:  D\n"
     ]
    },
    {
     "data": {
      "image/png": "[encoded data removed]",
      "text/plain": [
       "<Figure size 432x288 with 1 Axes>"
      ]
     },
     "metadata": {
      "needs_background": "light"
     },
     "output_type": "display_data"
    }
   ],
   "source": [
    "num_preview = 5\n",
    "for i in range(num_preview):\n",
    "    predicted_class = np.argmax(predictions[i])\n",
    "    prob = predictions[i][predicted_class]\n",
    "    print(\"Predicted: {} with the probability of: {}\".format(chr(predicted_class+65), prob))\n",
    "    print(\"Actual class: \", chr(np.argmax(y_test[i])+65))\n",
    "    plt.imshow(X_test[i].reshape(28,28))\n",
    "    plt.show()"
   ]
  },
  {
   "cell_type": "code",
   "execution_count": null,
   "metadata": {},
   "outputs": [],
   "source": []
  }
 ],
 "metadata": {
  "kernelspec": {
   "display_name": "Python 3",
   "language": "python",
   "name": "python3"
  },
  "language_info": {
   "codemirror_mode": {
    "name": "ipython",
    "version": 3
   },
   "file_extension": ".py",
   "mimetype": "text/x-python",
   "name": "python",
   "nbconvert_exporter": "python",
   "pygments_lexer": "ipython3",
   "version": "3.6.4"
  }
 },
 "nbformat": 4,
 "nbformat_minor": 2
}
